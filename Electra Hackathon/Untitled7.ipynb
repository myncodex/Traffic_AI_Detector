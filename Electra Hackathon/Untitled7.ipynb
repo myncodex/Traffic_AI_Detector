{
 "cells": [
  {
   "cell_type": "code",
   "execution_count": 10,
   "metadata": {},
   "outputs": [
    {
     "name": "stdout",
     "output_type": "stream",
     "text": [
      "Html file created sucessfully\n"
     ]
    }
   ],
   "source": [
    "import webbrowser\n",
    "import time\n",
    "message=\"america\"\n",
    "html_content = f\"<html> <head> </head> </h1> {country} </h1> <body> </body> </html>\"\n",
    "with open(\"index.html\",\"w\") as html_file:\n",
    "    html_file.write(html_content)\n",
    "    print(\"Html file created sucessfully\")\n",
    "    "
   ]
  },
  {
   "cell_type": "code",
   "execution_count": null,
   "metadata": {},
   "outputs": [],
   "source": []
  },
  {
   "cell_type": "markdown",
   "metadata": {},
   "source": [
    "# "
   ]
  }
 ],
 "metadata": {
  "kernelspec": {
   "display_name": "Python 3",
   "language": "python",
   "name": "python3"
  },
  "language_info": {
   "codemirror_mode": {
    "name": "ipython",
    "version": 3
   },
   "file_extension": ".py",
   "mimetype": "text/x-python",
   "name": "python",
   "nbconvert_exporter": "python",
   "pygments_lexer": "ipython3",
   "version": "3.8.3"
  }
 },
 "nbformat": 4,
 "nbformat_minor": 4
}
