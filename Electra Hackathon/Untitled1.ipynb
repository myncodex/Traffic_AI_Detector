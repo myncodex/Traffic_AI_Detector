{
 "cells": [
  {
   "cell_type": "code",
   "execution_count": 1,
   "metadata": {},
   "outputs": [
    {
     "ename": "error",
     "evalue": "OpenCV(4.5.5) D:\\a\\opencv-python\\opencv-python\\opencv\\modules\\imgproc\\src\\color.cpp:182: error: (-215:Assertion failed) !_src.empty() in function 'cv::cvtColor'\n",
     "output_type": "error",
     "traceback": [
      "\u001b[1;31m---------------------------------------------------------------------------\u001b[0m",
      "\u001b[1;31merror\u001b[0m                                     Traceback (most recent call last)",
      "\u001b[1;32m<ipython-input-1-99f43c7a2cb9>\u001b[0m in \u001b[0;36m<module>\u001b[1;34m\u001b[0m\n\u001b[0;32m     30\u001b[0m     \u001b[0mtempo\u001b[0m \u001b[1;33m=\u001b[0m \u001b[0mfloat\u001b[0m\u001b[1;33m(\u001b[0m\u001b[1;36m1\u001b[0m\u001b[1;33m/\u001b[0m\u001b[0mdelay\u001b[0m\u001b[1;33m)\u001b[0m\u001b[1;33m\u001b[0m\u001b[1;33m\u001b[0m\u001b[0m\n\u001b[0;32m     31\u001b[0m     \u001b[0msleep\u001b[0m\u001b[1;33m(\u001b[0m\u001b[0mtempo\u001b[0m\u001b[1;33m)\u001b[0m\u001b[1;33m\u001b[0m\u001b[1;33m\u001b[0m\u001b[0m\n\u001b[1;32m---> 32\u001b[1;33m     \u001b[0mgrey\u001b[0m \u001b[1;33m=\u001b[0m \u001b[0mcv2\u001b[0m\u001b[1;33m.\u001b[0m\u001b[0mcvtColor\u001b[0m\u001b[1;33m(\u001b[0m\u001b[0mframe\u001b[0m\u001b[1;33m,\u001b[0m\u001b[0mcv2\u001b[0m\u001b[1;33m.\u001b[0m\u001b[0mCOLOR_BGR2GRAY\u001b[0m\u001b[1;33m)\u001b[0m\u001b[1;33m\u001b[0m\u001b[1;33m\u001b[0m\u001b[0m\n\u001b[0m\u001b[0;32m     33\u001b[0m     \u001b[0mblur\u001b[0m \u001b[1;33m=\u001b[0m \u001b[0mcv2\u001b[0m\u001b[1;33m.\u001b[0m\u001b[0mGaussianBlur\u001b[0m\u001b[1;33m(\u001b[0m\u001b[0mgrey\u001b[0m\u001b[1;33m,\u001b[0m\u001b[1;33m(\u001b[0m\u001b[1;36m3\u001b[0m\u001b[1;33m,\u001b[0m\u001b[1;36m3\u001b[0m\u001b[1;33m)\u001b[0m\u001b[1;33m,\u001b[0m\u001b[1;36m5\u001b[0m\u001b[1;33m)\u001b[0m\u001b[1;33m\u001b[0m\u001b[1;33m\u001b[0m\u001b[0m\n\u001b[0;32m     34\u001b[0m     \u001b[0mimg_sub\u001b[0m \u001b[1;33m=\u001b[0m \u001b[0msubtractor\u001b[0m\u001b[1;33m.\u001b[0m\u001b[0mapply\u001b[0m\u001b[1;33m(\u001b[0m\u001b[0mblur\u001b[0m\u001b[1;33m)\u001b[0m\u001b[1;33m\u001b[0m\u001b[1;33m\u001b[0m\u001b[0m\n",
      "\u001b[1;31merror\u001b[0m: OpenCV(4.5.5) D:\\a\\opencv-python\\opencv-python\\opencv\\modules\\imgproc\\src\\color.cpp:182: error: (-215:Assertion failed) !_src.empty() in function 'cv::cvtColor'\n"
     ]
    }
   ],
   "source": [
    "import cv2\n",
    "import numpy as np\n",
    "from time import sleep\n",
    "\n",
    "length_min=80 #rectangle width\n",
    "heigh_min=80 #minimum height of rectangle\n",
    "\n",
    "offset=6 #Error allowed between pixels\n",
    "\n",
    "position_line=550 #position of counting line\n",
    "\n",
    "delay= 60 #FPS of video\n",
    "\n",
    "detec = []\n",
    "cars= 0\n",
    "\n",
    "\t\n",
    "def center_line(x, y, w, h):\n",
    "    x1 = int(w / 2)\n",
    "    y1 = int(h / 2)\n",
    "    cx = x + x1\n",
    "    cy = y + y1\n",
    "    return cx,cy\n",
    "\n",
    "cap = cv2.VideoCapture('video.mp4')\n",
    "subtractor = cv2.bgsegm.createBackgroundSubtractorMOG()\n",
    "\n",
    "while True:\n",
    "    ret,frame = cap.read()\n",
    "    tempo = float(1/delay)\n",
    "    sleep(tempo) \n",
    "    grey = cv2.cvtColor(frame,cv2.COLOR_BGR2GRAY)\n",
    "    blur = cv2.GaussianBlur(grey,(3,3),5)\n",
    "    img_sub = subtractor.apply(blur)\n",
    "    dilat = cv2.dilate(img_sub,np.ones((5,5)))\n",
    "    kernel = cv2.getStructuringElement(cv2.MORPH_ELLIPSE, (5, 5))\n",
    "    dilated = cv2.morphologyEx (dilat, cv2. MORPH_CLOSE , kernel)\n",
    "    dilated = cv2.morphologyEx (dilated, cv2. MORPH_CLOSE , kernel)\n",
    "    contour,h=cv2.findContours(dilated,cv2.RETR_TREE,cv2.CHAIN_APPROX_SIMPLE)\n",
    "    \n",
    "    cv2.line(frame1, (25, position_line), (1200, position_line), (255,127,0), 3) \n",
    "    for(i,c) in enumerate(contour):\n",
    "        (x,y,w,h) = cv2.boundingRect(c)\n",
    "        validate_contour = (w >= length_min) and (h >= height_min)\n",
    "        if not validate_contour:\n",
    "            continue\n",
    "\n",
    "        cv2.rectangle(frame,(x,y),(x+w,y+h),(0,255,0),2)        \n",
    "        center = center_line(x, y, w, h)\n",
    "        detec.append(center)\n",
    "        cv2.circle(frame, center, 4, (0, 0,255), -1)\n",
    "\n",
    "        for (x,y) in detec:\n",
    "            if y<(position_line+offset) and y>(position_line-offset):\n",
    "                cars+=1\n",
    "                cv2.line(frame, (25, position_line), (1200, position_line), (0,127,255), 3)  \n",
    "                detec.remove((x,y))\n",
    "                print(\"car is detected : \"+str(cars))        \n",
    "       \n",
    "    cv2.putText(frame, \"VEHICLE COUNT : \"+str(cars), (450, 70), cv2.FONT_HERSHEY_SIMPLEX, 2, (0, 0, 255),5)\n",
    "    cv2.imshow(\"Video Original\" , frame)\n",
    "    cv2.imshow(\"Detect\",dilated)\n",
    "\n",
    "    if cv2.waitKey(1) == 27:\n",
    "        break\n",
    "    \n",
    "cv2.destroyAllWindows()\n",
    "cap.release()"
   ]
  },
  {
   "cell_type": "code",
   "execution_count": 3,
   "metadata": {},
   "outputs": [
    {
     "name": "stdout",
     "output_type": "stream",
     "text": [
      "Note: you may need to restart the kernel to use updated packages.Requirement already satisfied: times in c:\\users\\user\\anaconda3\\lib\\site-packages (0.7)\n",
      "Requirement already satisfied: arrow in c:\\users\\user\\anaconda3\\lib\\site-packages (from times) (1.2.2)\n",
      "Requirement already satisfied: python-dateutil>=2.7.0 in c:\\users\\user\\anaconda3\\lib\\site-packages (from arrow->times) (2.8.1)\n",
      "\n",
      "Requirement already satisfied: six>=1.5 in c:\\users\\user\\anaconda3\\lib\\site-packages (from python-dateutil>=2.7.0->arrow->times) (1.15.0)\n"
     ]
    }
   ],
   "source": [
    "pip install times"
   ]
  },
  {
   "cell_type": "code",
   "execution_count": null,
   "metadata": {},
   "outputs": [],
   "source": []
  }
 ],
 "metadata": {
  "kernelspec": {
   "display_name": "Python 3",
   "language": "python",
   "name": "python3"
  },
  "language_info": {
   "codemirror_mode": {
    "name": "ipython",
    "version": 3
   },
   "file_extension": ".py",
   "mimetype": "text/x-python",
   "name": "python",
   "nbconvert_exporter": "python",
   "pygments_lexer": "ipython3",
   "version": "3.8.3"
  }
 },
 "nbformat": 4,
 "nbformat_minor": 4
}
