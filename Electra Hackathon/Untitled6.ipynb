{
 "cells": [
  {
   "cell_type": "code",
   "execution_count": 3,
   "metadata": {},
   "outputs": [
    {
     "ename": "IndentationError",
     "evalue": "expected an indented block (<ipython-input-3-cf5f23ed30e7>, line 44)",
     "output_type": "error",
     "traceback": [
      "\u001b[1;36m  File \u001b[1;32m\"<ipython-input-3-cf5f23ed30e7>\"\u001b[1;36m, line \u001b[1;32m44\u001b[0m\n\u001b[1;33m    html_content = f\"<!DOCTYPE html><html lang = \\\"en\\\"> <head><title>Traffic cogestion </title><link rel=\\\"stylesheet\\\" href=\\\"style.css\\\"> </head> <body> <h2 data-text=\\\"{message}\\\">{message}</h2> </body> </html>\"\u001b[0m\n\u001b[1;37m    ^\u001b[0m\n\u001b[1;31mIndentationError\u001b[0m\u001b[1;31m:\u001b[0m expected an indented block\n"
     ]
    }
   ],
   "source": [
    "import cv2\n",
    "import numpy as np\n",
    "import webbrowser\n",
    "import time\n",
    "cap= cv2.VideoCapture('video.mp4')\n",
    "min_width_rectangle=80\n",
    "min_height_rectangle=80\n",
    "count_line= 550\n",
    "def center_handle(x,y,w,h):\n",
    "    x1=int(w/2)\n",
    "    y1=int(h/2)\n",
    "    cx=x+x1\n",
    "    cy=y+y1\n",
    "    return cx,cy\n",
    "detect=[]\n",
    "offset=6\n",
    "counter=0\n",
    "count=0\n",
    "algo = cv2.bgsegm.createBackgroundSubtractorMOG()\n",
    "while True:\n",
    "    ret,frame1=cap.read()\n",
    "    grey=cv2.cvtColor(frame1,cv2.COLOR_BGR2GRAY)\n",
    "    blur=cv2.GaussianBlur(grey,(3,3),5)\n",
    "    img_sub = algo.apply(blur)\n",
    "    dilat = cv2.dilate(img_sub,np.ones((5,5)))\n",
    "    kernal=cv2.getStructuringElement(cv2.MORPH_ELLIPSE,(5,5))\n",
    "    dilatada = cv2.morphologyEx(dilat,cv2.MORPH_CLOSE,kernal)\n",
    "    dilatada = cv2.morphologyEx(dilatada,cv2.MORPH_CLOSE,kernal)\n",
    "    counterShape,h=cv2.findContours(dilatada,cv2.RETR_TREE,cv2.CHAIN_APPROX_SIMPLE)\n",
    "    cv2.line(frame1,(25,count_line),(1200,count_line),(255,127,0),3)\n",
    "    for(i,c) in enumerate(counterShape):\n",
    "        (x,y,w,h) = cv2.boundingRect(c)\n",
    "        validate_counter = (w>=min_width_rectangle) and (h>=min_height_rectangle)\n",
    "        if not validate_counter:\n",
    "            continue\n",
    "        cv2.rectangle(frame1,(x,y),(x+w,y+h),(0,255,0),2)\n",
    "        center=center_handle(x,y,w,h)\n",
    "        detect.append(center)\n",
    "        cv2.circle(frame1,center,4,(0,0,255),-1)\n",
    "        for (x,y) in detect:\n",
    "            count=1\n",
    "            if y<(count_line+offset) and y>(count_line-offset):\n",
    "         \n",
    "            html_content = f\"<!DOCTYPE html><html lang = \\\"en\\\"> <head><title>Traffic cogestion </title><link rel=\\\"stylesheet\\\" href=\\\"style.css\\\"> </head> <body> <h2 data-text=\\\"{message}\\\">{message}</h2> </body> </html>\"\n",
    "            with open(\"index.html\",\"w\") as html_file:\n",
    "                html_file.write(html_content)\n",
    "            cv2.line(frame1,(25,count_line),(1200,count_line),(255,127,0),3)\n",
    "            detect.remove((x,y))\n",
    "            #print(\"vehicle counter:\"+str(counter))\n",
    "        \n",
    "        \n",
    "        \n",
    "        \n",
    "    cv2.putText(frame1,\"VEHICLE COUNTER:\"+str(counter),(450,70),cv2.FONT_HERSHEY_SIMPLEX,2,(0,0,255))\n",
    "    cv2.imshow('Detector',dilatada)\n",
    "    cv2.imshow('Video Orignal',frame1)\n",
    "    if  cv2.waitKey(2)&0xFF==ord('q'):\n",
    "        break\n",
    "cv2.destroyAllWindows()\n",
    "cap.release()"
   ]
  },
  {
   "cell_type": "code",
   "execution_count": 2,
   "metadata": {},
   "outputs": [
    {
     "name": "stdout",
     "output_type": "stream",
     "text": [
      "Requirement already satisfied: flask in c:\\users\\user\\anaconda3\\lib\\site-packages (1.1.2)\n",
      "Requirement already satisfied: itsdangerous>=0.24 in c:\\users\\user\\anaconda3\\lib\\site-packages (from flask) (1.1.0)\n",
      "Requirement already satisfied: click>=5.1 in c:\\users\\user\\anaconda3\\lib\\site-packages (from flask) (7.1.2)\n",
      "Requirement already satisfied: Werkzeug>=0.15 in c:\\users\\user\\anaconda3\\lib\\site-packages (from flask) (1.0.1)\n",
      "Requirement already satisfied: Jinja2>=2.10.1 in c:\\users\\user\\anaconda3\\lib\\site-packages (from flask) (2.11.2)\n",
      "Requirement already satisfied: MarkupSafe>=0.23 in c:\\users\\user\\anaconda3\\lib\\site-packages (from Jinja2>=2.10.1->flask) (1.1.1)\n"
     ]
    }
   ],
   "source": [
    "!pip install flask"
   ]
  },
  {
   "cell_type": "code",
   "execution_count": null,
   "metadata": {},
   "outputs": [],
   "source": []
  },
  {
   "cell_type": "code",
   "execution_count": null,
   "metadata": {},
   "outputs": [],
   "source": []
  },
  {
   "cell_type": "code",
   "execution_count": null,
   "metadata": {},
   "outputs": [],
   "source": []
  },
  {
   "cell_type": "code",
   "execution_count": null,
   "metadata": {},
   "outputs": [],
   "source": []
  },
  {
   "cell_type": "code",
   "execution_count": null,
   "metadata": {},
   "outputs": [],
   "source": []
  }
 ],
 "metadata": {
  "kernelspec": {
   "display_name": "Python 3",
   "language": "python",
   "name": "python3"
  },
  "language_info": {
   "codemirror_mode": {
    "name": "ipython",
    "version": 3
   },
   "file_extension": ".py",
   "mimetype": "text/x-python",
   "name": "python",
   "nbconvert_exporter": "python",
   "pygments_lexer": "ipython3",
   "version": "3.8.3"
  }
 },
 "nbformat": 4,
 "nbformat_minor": 4
}
